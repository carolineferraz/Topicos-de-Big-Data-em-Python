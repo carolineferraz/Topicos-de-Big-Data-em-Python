{
  "cells": [
    {
      "cell_type": "markdown",
      "metadata": {
        "id": "J85TURSAy7zJ"
      },
      "source": [
        "## Configurações iniciais para utilizar o Spark no Google Colab:"
      ]
    },
    {
      "cell_type": "code",
      "execution_count": 78,
      "metadata": {
        "colab": {
          "base_uri": "https://localhost:8080/"
        },
        "id": "DT9_wPV2fK7O",
        "outputId": "67b4fcf5-3c5b-4275-8a64-a2f4a6ba6124"
      },
      "outputs": [
        {
          "output_type": "stream",
          "name": "stdout",
          "text": [
            "W: Skipping acquire of configured file 'main/source/Sources' as repository 'https://r2u.stat.illinois.edu/ubuntu jammy InRelease' does not seem to provide it (sources.list entry misspelt?)\n"
          ]
        }
      ],
      "source": [
        "# instalar as dependências:\n",
        "!apt-get update -qq\n",
        "!apt-get install openjdk-8-jdk-headless -qq > /dev/null\n",
        "!wget -q https://archive.apache.org/dist/spark/spark-3.1.2/spark-3.1.2-bin-hadoop2.7.tgz\n",
        "!tar xf spark-3.1.2-bin-hadoop2.7.tgz\n",
        "!pip install -q findspark"
      ]
    },
    {
      "cell_type": "code",
      "execution_count": 79,
      "metadata": {
        "id": "sazQSP24zQ45"
      },
      "outputs": [],
      "source": [
        "import os\n",
        "os.environ[\"JAVA_HOME\"] = \"/usr/lib/jvm/java-8-openjdk-amd64\"\n",
        "os.environ[\"SPARK_HOME\"] = \"/content/spark-3.1.2-bin-hadoop2.7\""
      ]
    },
    {
      "cell_type": "code",
      "execution_count": 80,
      "metadata": {
        "id": "ZmW2JdK_za_Q"
      },
      "outputs": [],
      "source": [
        "import findspark\n",
        "findspark.init()"
      ]
    },
    {
      "cell_type": "code",
      "execution_count": 81,
      "metadata": {
        "id": "lylv9qgf6Tfi"
      },
      "outputs": [],
      "source": [
        "from pyspark.sql import SparkSession\n",
        "\n",
        "spark = SparkSession.builder \\\n",
        "    .master('local[*]') \\\n",
        "    .appName(\"ETL Lojinha\") \\\n",
        "    .config('spark.ui.port', '4050') \\\n",
        "    .getOrCreate()"
      ]
    },
    {
      "cell_type": "markdown",
      "metadata": {
        "id": "K_eYk6mIzgFJ"
      },
      "source": [
        "## Carregamento de Dados:"
      ]
    },
    {
      "cell_type": "code",
      "execution_count": 82,
      "metadata": {
        "colab": {
          "base_uri": "https://localhost:8080/"
        },
        "id": "gufvJbAoziPR",
        "outputId": "989352cb-ff95-4d2a-a81e-706d133b32e0"
      },
      "outputs": [
        {
          "output_type": "stream",
          "name": "stdout",
          "text": [
            "Drive already mounted at /content/drive; to attempt to forcibly remount, call drive.mount(\"/content/drive\", force_remount=True).\n"
          ]
        }
      ],
      "source": [
        "from google.colab import drive\n",
        "drive.mount('/content/drive')"
      ]
    },
    {
      "cell_type": "code",
      "execution_count": 83,
      "metadata": {
        "id": "Hc0jlgNQ4vlK"
      },
      "outputs": [],
      "source": [
        "path = '/content/drive/MyDrive/Estácio/Tópicos de Big Data em Python/Dataset projeto lojinha.csv'\n",
        "dados = spark.read.csv(path, sep=',', inferSchema=True, header=True)"
      ]
    },
    {
      "cell_type": "markdown",
      "metadata": {
        "id": "YhvqxhCa79T6"
      },
      "source": [
        "## Manipulando os Dados:"
      ]
    },
    {
      "cell_type": "code",
      "execution_count": 84,
      "metadata": {
        "colab": {
          "base_uri": "https://localhost:8080/",
          "height": 310
        },
        "id": "7tXrOPZ-7-VC",
        "outputId": "dc55a7b7-abaf-44d8-d8c2-9b5714655549"
      },
      "outputs": [
        {
          "output_type": "execute_result",
          "data": {
            "text/plain": [
              "                 CNPJ                          Razão Social  \\\n",
              "0  41.890.685/0001-76  RICARDO DOS SANTOS ALVES 38005572824   \n",
              "1  41.890.685/0001-76  RICARDO DOS SANTOS ALVES 38005572824   \n",
              "2  41.890.685/0001-76  RICARDO DOS SANTOS ALVES 38005572824   \n",
              "3  41.890.685/0001-76  RICARDO DOS SANTOS ALVES 38005572824   \n",
              "4  41.890.685/0001-76  RICARDO DOS SANTOS ALVES 38005572824   \n",
              "\n",
              "  Data do Processamento Data da Transação Rede Captura Descrição  \\\n",
              "0            16/08/2024        15/08/2024    PAGSEGURO   COMPRAS   \n",
              "1            16/08/2024        15/08/2024    PAGSEGURO   COMPRAS   \n",
              "2            16/08/2024        15/08/2024    PAGSEGURO   COMPRAS   \n",
              "3            16/08/2024        15/08/2024    PAGSEGURO   COMPRAS   \n",
              "4            16/08/2024        15/08/2024    PAGSEGURO   COMPRAS   \n",
              "\n",
              "   Número do cartão  Nº de Autorização Valor Bruto R$ Data de Pagamento  \n",
              "0  6060********3012             406249       R$199,85        12/09/2024  \n",
              "1  6060********8403             706148       R$199,65        12/09/2024  \n",
              "2  6060********5343             706150       R$198,75        12/09/2024  \n",
              "3  6060********7446             406247       R$198,00        12/09/2024  \n",
              "4  6060********8596             406245       R$198,00        12/09/2024  "
            ],
            "text/html": [
              "\n",
              "  <div id=\"df-02abc3b6-709f-4c61-b6ab-9ee0dfbc283e\" class=\"colab-df-container\">\n",
              "    <div>\n",
              "<style scoped>\n",
              "    .dataframe tbody tr th:only-of-type {\n",
              "        vertical-align: middle;\n",
              "    }\n",
              "\n",
              "    .dataframe tbody tr th {\n",
              "        vertical-align: top;\n",
              "    }\n",
              "\n",
              "    .dataframe thead th {\n",
              "        text-align: right;\n",
              "    }\n",
              "</style>\n",
              "<table border=\"1\" class=\"dataframe\">\n",
              "  <thead>\n",
              "    <tr style=\"text-align: right;\">\n",
              "      <th></th>\n",
              "      <th>CNPJ</th>\n",
              "      <th>Razão Social</th>\n",
              "      <th>Data do Processamento</th>\n",
              "      <th>Data da Transação</th>\n",
              "      <th>Rede Captura</th>\n",
              "      <th>Descrição</th>\n",
              "      <th>Número do cartão</th>\n",
              "      <th>Nº de Autorização</th>\n",
              "      <th>Valor Bruto R$</th>\n",
              "      <th>Data de Pagamento</th>\n",
              "    </tr>\n",
              "  </thead>\n",
              "  <tbody>\n",
              "    <tr>\n",
              "      <th>0</th>\n",
              "      <td>41.890.685/0001-76</td>\n",
              "      <td>RICARDO DOS SANTOS ALVES 38005572824</td>\n",
              "      <td>16/08/2024</td>\n",
              "      <td>15/08/2024</td>\n",
              "      <td>PAGSEGURO</td>\n",
              "      <td>COMPRAS</td>\n",
              "      <td>6060********3012</td>\n",
              "      <td>406249</td>\n",
              "      <td>R$199,85</td>\n",
              "      <td>12/09/2024</td>\n",
              "    </tr>\n",
              "    <tr>\n",
              "      <th>1</th>\n",
              "      <td>41.890.685/0001-76</td>\n",
              "      <td>RICARDO DOS SANTOS ALVES 38005572824</td>\n",
              "      <td>16/08/2024</td>\n",
              "      <td>15/08/2024</td>\n",
              "      <td>PAGSEGURO</td>\n",
              "      <td>COMPRAS</td>\n",
              "      <td>6060********8403</td>\n",
              "      <td>706148</td>\n",
              "      <td>R$199,65</td>\n",
              "      <td>12/09/2024</td>\n",
              "    </tr>\n",
              "    <tr>\n",
              "      <th>2</th>\n",
              "      <td>41.890.685/0001-76</td>\n",
              "      <td>RICARDO DOS SANTOS ALVES 38005572824</td>\n",
              "      <td>16/08/2024</td>\n",
              "      <td>15/08/2024</td>\n",
              "      <td>PAGSEGURO</td>\n",
              "      <td>COMPRAS</td>\n",
              "      <td>6060********5343</td>\n",
              "      <td>706150</td>\n",
              "      <td>R$198,75</td>\n",
              "      <td>12/09/2024</td>\n",
              "    </tr>\n",
              "    <tr>\n",
              "      <th>3</th>\n",
              "      <td>41.890.685/0001-76</td>\n",
              "      <td>RICARDO DOS SANTOS ALVES 38005572824</td>\n",
              "      <td>16/08/2024</td>\n",
              "      <td>15/08/2024</td>\n",
              "      <td>PAGSEGURO</td>\n",
              "      <td>COMPRAS</td>\n",
              "      <td>6060********7446</td>\n",
              "      <td>406247</td>\n",
              "      <td>R$198,00</td>\n",
              "      <td>12/09/2024</td>\n",
              "    </tr>\n",
              "    <tr>\n",
              "      <th>4</th>\n",
              "      <td>41.890.685/0001-76</td>\n",
              "      <td>RICARDO DOS SANTOS ALVES 38005572824</td>\n",
              "      <td>16/08/2024</td>\n",
              "      <td>15/08/2024</td>\n",
              "      <td>PAGSEGURO</td>\n",
              "      <td>COMPRAS</td>\n",
              "      <td>6060********8596</td>\n",
              "      <td>406245</td>\n",
              "      <td>R$198,00</td>\n",
              "      <td>12/09/2024</td>\n",
              "    </tr>\n",
              "  </tbody>\n",
              "</table>\n",
              "</div>\n",
              "    <div class=\"colab-df-buttons\">\n",
              "\n",
              "  <div class=\"colab-df-container\">\n",
              "    <button class=\"colab-df-convert\" onclick=\"convertToInteractive('df-02abc3b6-709f-4c61-b6ab-9ee0dfbc283e')\"\n",
              "            title=\"Convert this dataframe to an interactive table.\"\n",
              "            style=\"display:none;\">\n",
              "\n",
              "  <svg xmlns=\"http://www.w3.org/2000/svg\" height=\"24px\" viewBox=\"0 -960 960 960\">\n",
              "    <path d=\"M120-120v-720h720v720H120Zm60-500h600v-160H180v160Zm220 220h160v-160H400v160Zm0 220h160v-160H400v160ZM180-400h160v-160H180v160Zm440 0h160v-160H620v160ZM180-180h160v-160H180v160Zm440 0h160v-160H620v160Z\"/>\n",
              "  </svg>\n",
              "    </button>\n",
              "\n",
              "  <style>\n",
              "    .colab-df-container {\n",
              "      display:flex;\n",
              "      gap: 12px;\n",
              "    }\n",
              "\n",
              "    .colab-df-convert {\n",
              "      background-color: #E8F0FE;\n",
              "      border: none;\n",
              "      border-radius: 50%;\n",
              "      cursor: pointer;\n",
              "      display: none;\n",
              "      fill: #1967D2;\n",
              "      height: 32px;\n",
              "      padding: 0 0 0 0;\n",
              "      width: 32px;\n",
              "    }\n",
              "\n",
              "    .colab-df-convert:hover {\n",
              "      background-color: #E2EBFA;\n",
              "      box-shadow: 0px 1px 2px rgba(60, 64, 67, 0.3), 0px 1px 3px 1px rgba(60, 64, 67, 0.15);\n",
              "      fill: #174EA6;\n",
              "    }\n",
              "\n",
              "    .colab-df-buttons div {\n",
              "      margin-bottom: 4px;\n",
              "    }\n",
              "\n",
              "    [theme=dark] .colab-df-convert {\n",
              "      background-color: #3B4455;\n",
              "      fill: #D2E3FC;\n",
              "    }\n",
              "\n",
              "    [theme=dark] .colab-df-convert:hover {\n",
              "      background-color: #434B5C;\n",
              "      box-shadow: 0px 1px 3px 1px rgba(0, 0, 0, 0.15);\n",
              "      filter: drop-shadow(0px 1px 2px rgba(0, 0, 0, 0.3));\n",
              "      fill: #FFFFFF;\n",
              "    }\n",
              "  </style>\n",
              "\n",
              "    <script>\n",
              "      const buttonEl =\n",
              "        document.querySelector('#df-02abc3b6-709f-4c61-b6ab-9ee0dfbc283e button.colab-df-convert');\n",
              "      buttonEl.style.display =\n",
              "        google.colab.kernel.accessAllowed ? 'block' : 'none';\n",
              "\n",
              "      async function convertToInteractive(key) {\n",
              "        const element = document.querySelector('#df-02abc3b6-709f-4c61-b6ab-9ee0dfbc283e');\n",
              "        const dataTable =\n",
              "          await google.colab.kernel.invokeFunction('convertToInteractive',\n",
              "                                                    [key], {});\n",
              "        if (!dataTable) return;\n",
              "\n",
              "        const docLinkHtml = 'Like what you see? Visit the ' +\n",
              "          '<a target=\"_blank\" href=https://colab.research.google.com/notebooks/data_table.ipynb>data table notebook</a>'\n",
              "          + ' to learn more about interactive tables.';\n",
              "        element.innerHTML = '';\n",
              "        dataTable['output_type'] = 'display_data';\n",
              "        await google.colab.output.renderOutput(dataTable, element);\n",
              "        const docLink = document.createElement('div');\n",
              "        docLink.innerHTML = docLinkHtml;\n",
              "        element.appendChild(docLink);\n",
              "      }\n",
              "    </script>\n",
              "  </div>\n",
              "\n",
              "\n",
              "<div id=\"df-f47c765d-c31f-4263-970d-ab8120e13ccf\">\n",
              "  <button class=\"colab-df-quickchart\" onclick=\"quickchart('df-f47c765d-c31f-4263-970d-ab8120e13ccf')\"\n",
              "            title=\"Suggest charts\"\n",
              "            style=\"display:none;\">\n",
              "\n",
              "<svg xmlns=\"http://www.w3.org/2000/svg\" height=\"24px\"viewBox=\"0 0 24 24\"\n",
              "     width=\"24px\">\n",
              "    <g>\n",
              "        <path d=\"M19 3H5c-1.1 0-2 .9-2 2v14c0 1.1.9 2 2 2h14c1.1 0 2-.9 2-2V5c0-1.1-.9-2-2-2zM9 17H7v-7h2v7zm4 0h-2V7h2v10zm4 0h-2v-4h2v4z\"/>\n",
              "    </g>\n",
              "</svg>\n",
              "  </button>\n",
              "\n",
              "<style>\n",
              "  .colab-df-quickchart {\n",
              "      --bg-color: #E8F0FE;\n",
              "      --fill-color: #1967D2;\n",
              "      --hover-bg-color: #E2EBFA;\n",
              "      --hover-fill-color: #174EA6;\n",
              "      --disabled-fill-color: #AAA;\n",
              "      --disabled-bg-color: #DDD;\n",
              "  }\n",
              "\n",
              "  [theme=dark] .colab-df-quickchart {\n",
              "      --bg-color: #3B4455;\n",
              "      --fill-color: #D2E3FC;\n",
              "      --hover-bg-color: #434B5C;\n",
              "      --hover-fill-color: #FFFFFF;\n",
              "      --disabled-bg-color: #3B4455;\n",
              "      --disabled-fill-color: #666;\n",
              "  }\n",
              "\n",
              "  .colab-df-quickchart {\n",
              "    background-color: var(--bg-color);\n",
              "    border: none;\n",
              "    border-radius: 50%;\n",
              "    cursor: pointer;\n",
              "    display: none;\n",
              "    fill: var(--fill-color);\n",
              "    height: 32px;\n",
              "    padding: 0;\n",
              "    width: 32px;\n",
              "  }\n",
              "\n",
              "  .colab-df-quickchart:hover {\n",
              "    background-color: var(--hover-bg-color);\n",
              "    box-shadow: 0 1px 2px rgba(60, 64, 67, 0.3), 0 1px 3px 1px rgba(60, 64, 67, 0.15);\n",
              "    fill: var(--button-hover-fill-color);\n",
              "  }\n",
              "\n",
              "  .colab-df-quickchart-complete:disabled,\n",
              "  .colab-df-quickchart-complete:disabled:hover {\n",
              "    background-color: var(--disabled-bg-color);\n",
              "    fill: var(--disabled-fill-color);\n",
              "    box-shadow: none;\n",
              "  }\n",
              "\n",
              "  .colab-df-spinner {\n",
              "    border: 2px solid var(--fill-color);\n",
              "    border-color: transparent;\n",
              "    border-bottom-color: var(--fill-color);\n",
              "    animation:\n",
              "      spin 1s steps(1) infinite;\n",
              "  }\n",
              "\n",
              "  @keyframes spin {\n",
              "    0% {\n",
              "      border-color: transparent;\n",
              "      border-bottom-color: var(--fill-color);\n",
              "      border-left-color: var(--fill-color);\n",
              "    }\n",
              "    20% {\n",
              "      border-color: transparent;\n",
              "      border-left-color: var(--fill-color);\n",
              "      border-top-color: var(--fill-color);\n",
              "    }\n",
              "    30% {\n",
              "      border-color: transparent;\n",
              "      border-left-color: var(--fill-color);\n",
              "      border-top-color: var(--fill-color);\n",
              "      border-right-color: var(--fill-color);\n",
              "    }\n",
              "    40% {\n",
              "      border-color: transparent;\n",
              "      border-right-color: var(--fill-color);\n",
              "      border-top-color: var(--fill-color);\n",
              "    }\n",
              "    60% {\n",
              "      border-color: transparent;\n",
              "      border-right-color: var(--fill-color);\n",
              "    }\n",
              "    80% {\n",
              "      border-color: transparent;\n",
              "      border-right-color: var(--fill-color);\n",
              "      border-bottom-color: var(--fill-color);\n",
              "    }\n",
              "    90% {\n",
              "      border-color: transparent;\n",
              "      border-bottom-color: var(--fill-color);\n",
              "    }\n",
              "  }\n",
              "</style>\n",
              "\n",
              "  <script>\n",
              "    async function quickchart(key) {\n",
              "      const quickchartButtonEl =\n",
              "        document.querySelector('#' + key + ' button');\n",
              "      quickchartButtonEl.disabled = true;  // To prevent multiple clicks.\n",
              "      quickchartButtonEl.classList.add('colab-df-spinner');\n",
              "      try {\n",
              "        const charts = await google.colab.kernel.invokeFunction(\n",
              "            'suggestCharts', [key], {});\n",
              "      } catch (error) {\n",
              "        console.error('Error during call to suggestCharts:', error);\n",
              "      }\n",
              "      quickchartButtonEl.classList.remove('colab-df-spinner');\n",
              "      quickchartButtonEl.classList.add('colab-df-quickchart-complete');\n",
              "    }\n",
              "    (() => {\n",
              "      let quickchartButtonEl =\n",
              "        document.querySelector('#df-f47c765d-c31f-4263-970d-ab8120e13ccf button');\n",
              "      quickchartButtonEl.style.display =\n",
              "        google.colab.kernel.accessAllowed ? 'block' : 'none';\n",
              "    })();\n",
              "  </script>\n",
              "</div>\n",
              "\n",
              "    </div>\n",
              "  </div>\n"
            ],
            "application/vnd.google.colaboratory.intrinsic+json": {
              "type": "dataframe",
              "summary": "{\n  \"name\": \"dados\",\n  \"rows\": 5,\n  \"fields\": [\n    {\n      \"column\": \"CNPJ\",\n      \"properties\": {\n        \"dtype\": \"category\",\n        \"num_unique_values\": 1,\n        \"samples\": [\n          \"41.890.685/0001-76\"\n        ],\n        \"semantic_type\": \"\",\n        \"description\": \"\"\n      }\n    },\n    {\n      \"column\": \"Raz\\u00e3o Social\",\n      \"properties\": {\n        \"dtype\": \"category\",\n        \"num_unique_values\": 1,\n        \"samples\": [\n          \"RICARDO DOS SANTOS ALVES 38005572824\"\n        ],\n        \"semantic_type\": \"\",\n        \"description\": \"\"\n      }\n    },\n    {\n      \"column\": \"Data do Processamento\",\n      \"properties\": {\n        \"dtype\": \"object\",\n        \"num_unique_values\": 1,\n        \"samples\": [\n          \"16/08/2024\"\n        ],\n        \"semantic_type\": \"\",\n        \"description\": \"\"\n      }\n    },\n    {\n      \"column\": \"Data da Transa\\u00e7\\u00e3o\",\n      \"properties\": {\n        \"dtype\": \"object\",\n        \"num_unique_values\": 1,\n        \"samples\": [\n          \"15/08/2024\"\n        ],\n        \"semantic_type\": \"\",\n        \"description\": \"\"\n      }\n    },\n    {\n      \"column\": \"Rede Captura\",\n      \"properties\": {\n        \"dtype\": \"category\",\n        \"num_unique_values\": 1,\n        \"samples\": [\n          \"PAGSEGURO\"\n        ],\n        \"semantic_type\": \"\",\n        \"description\": \"\"\n      }\n    },\n    {\n      \"column\": \"Descri\\u00e7\\u00e3o\",\n      \"properties\": {\n        \"dtype\": \"category\",\n        \"num_unique_values\": 1,\n        \"samples\": [\n          \"COMPRAS\"\n        ],\n        \"semantic_type\": \"\",\n        \"description\": \"\"\n      }\n    },\n    {\n      \"column\": \"N\\u00famero do cart\\u00e3o\",\n      \"properties\": {\n        \"dtype\": \"string\",\n        \"num_unique_values\": 5,\n        \"samples\": [\n          \"6060********8403\"\n        ],\n        \"semantic_type\": \"\",\n        \"description\": \"\"\n      }\n    },\n    {\n      \"column\": \"N\\u00ba de Autoriza\\u00e7\\u00e3o\",\n      \"properties\": {\n        \"dtype\": \"int32\",\n        \"num_unique_values\": 5,\n        \"samples\": [\n          706148\n        ],\n        \"semantic_type\": \"\",\n        \"description\": \"\"\n      }\n    },\n    {\n      \"column\": \"Valor Bruto R$\",\n      \"properties\": {\n        \"dtype\": \"string\",\n        \"num_unique_values\": 4,\n        \"samples\": [\n          \"R$199,65\"\n        ],\n        \"semantic_type\": \"\",\n        \"description\": \"\"\n      }\n    },\n    {\n      \"column\": \"Data de Pagamento\",\n      \"properties\": {\n        \"dtype\": \"object\",\n        \"num_unique_values\": 1,\n        \"samples\": [\n          \"12/09/2024\"\n        ],\n        \"semantic_type\": \"\",\n        \"description\": \"\"\n      }\n    }\n  ]\n}"
            }
          },
          "metadata": {},
          "execution_count": 84
        }
      ],
      "source": [
        "dados.limit(5).toPandas()"
      ]
    },
    {
      "cell_type": "code",
      "execution_count": 86,
      "metadata": {
        "colab": {
          "base_uri": "https://localhost:8080/"
        },
        "id": "OEWo77XvFWIa",
        "outputId": "4b2e8db2-f0f1-4a1f-b086-0a69e4062f65"
      },
      "outputs": [
        {
          "output_type": "stream",
          "name": "stdout",
          "text": [
            "root\n",
            " |-- CNPJ: string (nullable = true)\n",
            " |-- Razão Social: string (nullable = true)\n",
            " |-- Data do Processamento: string (nullable = true)\n",
            " |-- Data da Transação: string (nullable = true)\n",
            " |-- Rede Captura: string (nullable = true)\n",
            " |-- Descrição: string (nullable = true)\n",
            " |-- Número do cartão: string (nullable = true)\n",
            " |-- Nº de Autorização: integer (nullable = true)\n",
            " |-- Valor Bruto R$: string (nullable = true)\n",
            " |-- Data de Pagamento: string (nullable = true)\n",
            "\n"
          ]
        }
      ],
      "source": [
        "# Verificando os tipos de dados de cada coluna\n",
        "dados.printSchema()"
      ]
    },
    {
      "cell_type": "markdown",
      "metadata": {
        "id": "3cPWob8OGfro"
      },
      "source": [
        "### Ajustando os tipos de dados:"
      ]
    },
    {
      "cell_type": "markdown",
      "metadata": {
        "id": "eHzJWaHNPoFb"
      },
      "source": [
        "#### De String para DateType:"
      ]
    },
    {
      "cell_type": "code",
      "execution_count": 9,
      "metadata": {
        "id": "U5XNuBvSG12S"
      },
      "outputs": [],
      "source": [
        "from pyspark.sql.functions import to_date, col, date_format"
      ]
    },
    {
      "cell_type": "code",
      "execution_count": 87,
      "metadata": {
        "id": "ISN4dVOnGgcZ"
      },
      "outputs": [],
      "source": [
        "dados = dados.withColumn(\"Data do Processamento\", to_date(col(\"Data do Processamento\"), \"dd/MM/yyyy\"))\\\n",
        "             .withColumn(\"Data da Transação\", to_date(col(\"Data da Transação\"), \"dd/MM/yyyy\"))\\\n",
        "             .withColumn(\"Data de Pagamento\", to_date(col(\"Data de Pagamento\"), \"dd/MM/yyyy\"))"
      ]
    },
    {
      "cell_type": "code",
      "execution_count": 88,
      "metadata": {
        "colab": {
          "base_uri": "https://localhost:8080/"
        },
        "id": "qi2Mi4fUP_uo",
        "outputId": "556ca951-8d7a-41d0-b0bb-c523f3c070e9"
      },
      "outputs": [
        {
          "output_type": "stream",
          "name": "stdout",
          "text": [
            "root\n",
            " |-- CNPJ: string (nullable = true)\n",
            " |-- Razão Social: string (nullable = true)\n",
            " |-- Data do Processamento: date (nullable = true)\n",
            " |-- Data da Transação: date (nullable = true)\n",
            " |-- Rede Captura: string (nullable = true)\n",
            " |-- Descrição: string (nullable = true)\n",
            " |-- Número do cartão: string (nullable = true)\n",
            " |-- Nº de Autorização: integer (nullable = true)\n",
            " |-- Valor Bruto R$: string (nullable = true)\n",
            " |-- Data de Pagamento: date (nullable = true)\n",
            "\n"
          ]
        }
      ],
      "source": [
        "dados.printSchema()"
      ]
    },
    {
      "cell_type": "markdown",
      "metadata": {
        "id": "W7zbTNEQPxH6"
      },
      "source": [
        "#### De Integer para String:"
      ]
    },
    {
      "cell_type": "code",
      "execution_count": 92,
      "metadata": {
        "id": "kPlEe8ejP1QS"
      },
      "outputs": [],
      "source": [
        "dados = dados.withColumn(\"Nº de Autorização\", col(\"Nº de Autorização\").cast(\"string\"))"
      ]
    },
    {
      "cell_type": "code",
      "execution_count": 91,
      "metadata": {
        "colab": {
          "base_uri": "https://localhost:8080/"
        },
        "id": "EbVsltLuTGf7",
        "outputId": "3c7b40bd-15a9-4676-8ad4-84485780ad1d"
      },
      "outputs": [
        {
          "output_type": "stream",
          "name": "stdout",
          "text": [
            "root\n",
            " |-- CNPJ: string (nullable = true)\n",
            " |-- Razão Social: string (nullable = true)\n",
            " |-- Data do Processamento: date (nullable = true)\n",
            " |-- Data da Transação: date (nullable = true)\n",
            " |-- Rede Captura: string (nullable = true)\n",
            " |-- Descrição: string (nullable = true)\n",
            " |-- Número do cartão: string (nullable = true)\n",
            " |-- Nº de Autorização: string (nullable = true)\n",
            " |-- Valor Bruto R$: string (nullable = true)\n",
            " |-- Data de Pagamento: date (nullable = true)\n",
            "\n"
          ]
        }
      ],
      "source": [
        "dados.printSchema()"
      ]
    },
    {
      "cell_type": "markdown",
      "metadata": {
        "id": "V_lYkWwCUguL"
      },
      "source": [
        "#### De String para DecimalType:"
      ]
    },
    {
      "cell_type": "code",
      "execution_count": 93,
      "metadata": {
        "id": "TGDywbKWUkuy"
      },
      "outputs": [],
      "source": [
        "from pyspark.sql.types import DecimalType"
      ]
    },
    {
      "cell_type": "code",
      "execution_count": 94,
      "metadata": {
        "id": "w1_laJfpb5Kq"
      },
      "outputs": [],
      "source": [
        "from pyspark.sql.functions import regexp_replace, col"
      ]
    },
    {
      "cell_type": "code",
      "execution_count": 95,
      "metadata": {
        "id": "2fAj4nj7brRE"
      },
      "outputs": [],
      "source": [
        "dados = dados.withColumn(\"Valor Bruto R$\", regexp_replace(col(\"Valor Bruto R$\"), \"R\\\\$\", \"\")) \\\n",
        "             .withColumn(\"Valor Bruto R$\", regexp_replace(col(\"Valor Bruto R$\"), \",\", \".\"))\\\n",
        "             .withColumn(\"Valor Bruto R$\", col(\"Valor Bruto R$\").cast(DecimalType(10, 2)))"
      ]
    },
    {
      "cell_type": "code",
      "execution_count": 96,
      "metadata": {
        "colab": {
          "base_uri": "https://localhost:8080/"
        },
        "id": "TUkmAwcLU5yZ",
        "outputId": "0a586a4d-f4ce-4a61-d75f-ee5775f73cb8"
      },
      "outputs": [
        {
          "output_type": "stream",
          "name": "stdout",
          "text": [
            "root\n",
            " |-- CNPJ: string (nullable = true)\n",
            " |-- Razão Social: string (nullable = true)\n",
            " |-- Data do Processamento: date (nullable = true)\n",
            " |-- Data da Transação: date (nullable = true)\n",
            " |-- Rede Captura: string (nullable = true)\n",
            " |-- Descrição: string (nullable = true)\n",
            " |-- Número do cartão: string (nullable = true)\n",
            " |-- Nº de Autorização: string (nullable = true)\n",
            " |-- Valor Bruto R$: decimal(10,2) (nullable = true)\n",
            " |-- Data de Pagamento: date (nullable = true)\n",
            "\n"
          ]
        }
      ],
      "source": [
        "dados.printSchema()"
      ]
    },
    {
      "cell_type": "code",
      "source": [
        "dados.toPandas()"
      ],
      "metadata": {
        "colab": {
          "base_uri": "https://localhost:8080/",
          "height": 614
        },
        "id": "ImZbT6JFtdxp",
        "outputId": "4db36020-58a4-4a3e-b60a-06276876d205"
      },
      "execution_count": 97,
      "outputs": [
        {
          "output_type": "execute_result",
          "data": {
            "text/plain": [
              "                   CNPJ                          Razão Social  \\\n",
              "0    41.890.685/0001-76  RICARDO DOS SANTOS ALVES 38005572824   \n",
              "1    41.890.685/0001-76  RICARDO DOS SANTOS ALVES 38005572824   \n",
              "2    41.890.685/0001-76  RICARDO DOS SANTOS ALVES 38005572824   \n",
              "3    41.890.685/0001-76  RICARDO DOS SANTOS ALVES 38005572824   \n",
              "4    41.890.685/0001-76  RICARDO DOS SANTOS ALVES 38005572824   \n",
              "..                  ...                                   ...   \n",
              "419  41.890.685/0001-76  RICARDO DOS SANTOS ALVES 38005572824   \n",
              "420  41.890.685/0001-76  RICARDO DOS SANTOS ALVES 38005572824   \n",
              "421  41.890.685/0001-76  RICARDO DOS SANTOS ALVES 38005572824   \n",
              "422  41.890.685/0001-76  RICARDO DOS SANTOS ALVES 38005572824   \n",
              "423  41.890.685/0001-76  RICARDO DOS SANTOS ALVES 38005572824   \n",
              "\n",
              "    Data do Processamento Data da Transação Rede Captura Descrição  \\\n",
              "0              2024-08-16        2024-08-15    PAGSEGURO   COMPRAS   \n",
              "1              2024-08-16        2024-08-15    PAGSEGURO   COMPRAS   \n",
              "2              2024-08-16        2024-08-15    PAGSEGURO   COMPRAS   \n",
              "3              2024-08-16        2024-08-15    PAGSEGURO   COMPRAS   \n",
              "4              2024-08-16        2024-08-15    PAGSEGURO   COMPRAS   \n",
              "..                    ...               ...          ...       ...   \n",
              "419            2024-07-02        2024-07-01    PAGSEGURO   COMPRAS   \n",
              "420            2024-07-02        2024-07-01    PAGSEGURO   COMPRAS   \n",
              "421            2024-07-02        2024-07-01    PAGSEGURO   COMPRAS   \n",
              "422            2024-07-02        2024-07-01    PAGSEGURO   COMPRAS   \n",
              "423            2024-07-02        2024-07-01    PAGSEGURO   COMPRAS   \n",
              "\n",
              "     Número do cartão Nº de Autorização Valor Bruto R$ Data de Pagamento  \n",
              "0    6060********3012            406249         199.85        2024-09-12  \n",
              "1    6060********8403            706148         199.65        2024-09-12  \n",
              "2    6060********5343            706150         198.75        2024-09-12  \n",
              "3    6060********7446            406247         198.00        2024-09-12  \n",
              "4    6060********8596            406245         198.00        2024-09-12  \n",
              "..                ...               ...            ...               ...  \n",
              "419  6060********1191            705861           1.00        2024-08-01  \n",
              "420  6060********2016            405930           1.00        2024-08-01  \n",
              "421  6060********8596            405931           1.00        2024-08-01  \n",
              "422  6060********7696            405928           1.00        2024-08-01  \n",
              "423  6060********1470            405927           1.00        2024-08-01  \n",
              "\n",
              "[424 rows x 10 columns]"
            ],
            "text/html": [
              "\n",
              "  <div id=\"df-6428d251-3a92-48cc-b477-df0ed0fd7b74\" class=\"colab-df-container\">\n",
              "    <div>\n",
              "<style scoped>\n",
              "    .dataframe tbody tr th:only-of-type {\n",
              "        vertical-align: middle;\n",
              "    }\n",
              "\n",
              "    .dataframe tbody tr th {\n",
              "        vertical-align: top;\n",
              "    }\n",
              "\n",
              "    .dataframe thead th {\n",
              "        text-align: right;\n",
              "    }\n",
              "</style>\n",
              "<table border=\"1\" class=\"dataframe\">\n",
              "  <thead>\n",
              "    <tr style=\"text-align: right;\">\n",
              "      <th></th>\n",
              "      <th>CNPJ</th>\n",
              "      <th>Razão Social</th>\n",
              "      <th>Data do Processamento</th>\n",
              "      <th>Data da Transação</th>\n",
              "      <th>Rede Captura</th>\n",
              "      <th>Descrição</th>\n",
              "      <th>Número do cartão</th>\n",
              "      <th>Nº de Autorização</th>\n",
              "      <th>Valor Bruto R$</th>\n",
              "      <th>Data de Pagamento</th>\n",
              "    </tr>\n",
              "  </thead>\n",
              "  <tbody>\n",
              "    <tr>\n",
              "      <th>0</th>\n",
              "      <td>41.890.685/0001-76</td>\n",
              "      <td>RICARDO DOS SANTOS ALVES 38005572824</td>\n",
              "      <td>2024-08-16</td>\n",
              "      <td>2024-08-15</td>\n",
              "      <td>PAGSEGURO</td>\n",
              "      <td>COMPRAS</td>\n",
              "      <td>6060********3012</td>\n",
              "      <td>406249</td>\n",
              "      <td>199.85</td>\n",
              "      <td>2024-09-12</td>\n",
              "    </tr>\n",
              "    <tr>\n",
              "      <th>1</th>\n",
              "      <td>41.890.685/0001-76</td>\n",
              "      <td>RICARDO DOS SANTOS ALVES 38005572824</td>\n",
              "      <td>2024-08-16</td>\n",
              "      <td>2024-08-15</td>\n",
              "      <td>PAGSEGURO</td>\n",
              "      <td>COMPRAS</td>\n",
              "      <td>6060********8403</td>\n",
              "      <td>706148</td>\n",
              "      <td>199.65</td>\n",
              "      <td>2024-09-12</td>\n",
              "    </tr>\n",
              "    <tr>\n",
              "      <th>2</th>\n",
              "      <td>41.890.685/0001-76</td>\n",
              "      <td>RICARDO DOS SANTOS ALVES 38005572824</td>\n",
              "      <td>2024-08-16</td>\n",
              "      <td>2024-08-15</td>\n",
              "      <td>PAGSEGURO</td>\n",
              "      <td>COMPRAS</td>\n",
              "      <td>6060********5343</td>\n",
              "      <td>706150</td>\n",
              "      <td>198.75</td>\n",
              "      <td>2024-09-12</td>\n",
              "    </tr>\n",
              "    <tr>\n",
              "      <th>3</th>\n",
              "      <td>41.890.685/0001-76</td>\n",
              "      <td>RICARDO DOS SANTOS ALVES 38005572824</td>\n",
              "      <td>2024-08-16</td>\n",
              "      <td>2024-08-15</td>\n",
              "      <td>PAGSEGURO</td>\n",
              "      <td>COMPRAS</td>\n",
              "      <td>6060********7446</td>\n",
              "      <td>406247</td>\n",
              "      <td>198.00</td>\n",
              "      <td>2024-09-12</td>\n",
              "    </tr>\n",
              "    <tr>\n",
              "      <th>4</th>\n",
              "      <td>41.890.685/0001-76</td>\n",
              "      <td>RICARDO DOS SANTOS ALVES 38005572824</td>\n",
              "      <td>2024-08-16</td>\n",
              "      <td>2024-08-15</td>\n",
              "      <td>PAGSEGURO</td>\n",
              "      <td>COMPRAS</td>\n",
              "      <td>6060********8596</td>\n",
              "      <td>406245</td>\n",
              "      <td>198.00</td>\n",
              "      <td>2024-09-12</td>\n",
              "    </tr>\n",
              "    <tr>\n",
              "      <th>...</th>\n",
              "      <td>...</td>\n",
              "      <td>...</td>\n",
              "      <td>...</td>\n",
              "      <td>...</td>\n",
              "      <td>...</td>\n",
              "      <td>...</td>\n",
              "      <td>...</td>\n",
              "      <td>...</td>\n",
              "      <td>...</td>\n",
              "      <td>...</td>\n",
              "    </tr>\n",
              "    <tr>\n",
              "      <th>419</th>\n",
              "      <td>41.890.685/0001-76</td>\n",
              "      <td>RICARDO DOS SANTOS ALVES 38005572824</td>\n",
              "      <td>2024-07-02</td>\n",
              "      <td>2024-07-01</td>\n",
              "      <td>PAGSEGURO</td>\n",
              "      <td>COMPRAS</td>\n",
              "      <td>6060********1191</td>\n",
              "      <td>705861</td>\n",
              "      <td>1.00</td>\n",
              "      <td>2024-08-01</td>\n",
              "    </tr>\n",
              "    <tr>\n",
              "      <th>420</th>\n",
              "      <td>41.890.685/0001-76</td>\n",
              "      <td>RICARDO DOS SANTOS ALVES 38005572824</td>\n",
              "      <td>2024-07-02</td>\n",
              "      <td>2024-07-01</td>\n",
              "      <td>PAGSEGURO</td>\n",
              "      <td>COMPRAS</td>\n",
              "      <td>6060********2016</td>\n",
              "      <td>405930</td>\n",
              "      <td>1.00</td>\n",
              "      <td>2024-08-01</td>\n",
              "    </tr>\n",
              "    <tr>\n",
              "      <th>421</th>\n",
              "      <td>41.890.685/0001-76</td>\n",
              "      <td>RICARDO DOS SANTOS ALVES 38005572824</td>\n",
              "      <td>2024-07-02</td>\n",
              "      <td>2024-07-01</td>\n",
              "      <td>PAGSEGURO</td>\n",
              "      <td>COMPRAS</td>\n",
              "      <td>6060********8596</td>\n",
              "      <td>405931</td>\n",
              "      <td>1.00</td>\n",
              "      <td>2024-08-01</td>\n",
              "    </tr>\n",
              "    <tr>\n",
              "      <th>422</th>\n",
              "      <td>41.890.685/0001-76</td>\n",
              "      <td>RICARDO DOS SANTOS ALVES 38005572824</td>\n",
              "      <td>2024-07-02</td>\n",
              "      <td>2024-07-01</td>\n",
              "      <td>PAGSEGURO</td>\n",
              "      <td>COMPRAS</td>\n",
              "      <td>6060********7696</td>\n",
              "      <td>405928</td>\n",
              "      <td>1.00</td>\n",
              "      <td>2024-08-01</td>\n",
              "    </tr>\n",
              "    <tr>\n",
              "      <th>423</th>\n",
              "      <td>41.890.685/0001-76</td>\n",
              "      <td>RICARDO DOS SANTOS ALVES 38005572824</td>\n",
              "      <td>2024-07-02</td>\n",
              "      <td>2024-07-01</td>\n",
              "      <td>PAGSEGURO</td>\n",
              "      <td>COMPRAS</td>\n",
              "      <td>6060********1470</td>\n",
              "      <td>405927</td>\n",
              "      <td>1.00</td>\n",
              "      <td>2024-08-01</td>\n",
              "    </tr>\n",
              "  </tbody>\n",
              "</table>\n",
              "<p>424 rows × 10 columns</p>\n",
              "</div>\n",
              "    <div class=\"colab-df-buttons\">\n",
              "\n",
              "  <div class=\"colab-df-container\">\n",
              "    <button class=\"colab-df-convert\" onclick=\"convertToInteractive('df-6428d251-3a92-48cc-b477-df0ed0fd7b74')\"\n",
              "            title=\"Convert this dataframe to an interactive table.\"\n",
              "            style=\"display:none;\">\n",
              "\n",
              "  <svg xmlns=\"http://www.w3.org/2000/svg\" height=\"24px\" viewBox=\"0 -960 960 960\">\n",
              "    <path d=\"M120-120v-720h720v720H120Zm60-500h600v-160H180v160Zm220 220h160v-160H400v160Zm0 220h160v-160H400v160ZM180-400h160v-160H180v160Zm440 0h160v-160H620v160ZM180-180h160v-160H180v160Zm440 0h160v-160H620v160Z\"/>\n",
              "  </svg>\n",
              "    </button>\n",
              "\n",
              "  <style>\n",
              "    .colab-df-container {\n",
              "      display:flex;\n",
              "      gap: 12px;\n",
              "    }\n",
              "\n",
              "    .colab-df-convert {\n",
              "      background-color: #E8F0FE;\n",
              "      border: none;\n",
              "      border-radius: 50%;\n",
              "      cursor: pointer;\n",
              "      display: none;\n",
              "      fill: #1967D2;\n",
              "      height: 32px;\n",
              "      padding: 0 0 0 0;\n",
              "      width: 32px;\n",
              "    }\n",
              "\n",
              "    .colab-df-convert:hover {\n",
              "      background-color: #E2EBFA;\n",
              "      box-shadow: 0px 1px 2px rgba(60, 64, 67, 0.3), 0px 1px 3px 1px rgba(60, 64, 67, 0.15);\n",
              "      fill: #174EA6;\n",
              "    }\n",
              "\n",
              "    .colab-df-buttons div {\n",
              "      margin-bottom: 4px;\n",
              "    }\n",
              "\n",
              "    [theme=dark] .colab-df-convert {\n",
              "      background-color: #3B4455;\n",
              "      fill: #D2E3FC;\n",
              "    }\n",
              "\n",
              "    [theme=dark] .colab-df-convert:hover {\n",
              "      background-color: #434B5C;\n",
              "      box-shadow: 0px 1px 3px 1px rgba(0, 0, 0, 0.15);\n",
              "      filter: drop-shadow(0px 1px 2px rgba(0, 0, 0, 0.3));\n",
              "      fill: #FFFFFF;\n",
              "    }\n",
              "  </style>\n",
              "\n",
              "    <script>\n",
              "      const buttonEl =\n",
              "        document.querySelector('#df-6428d251-3a92-48cc-b477-df0ed0fd7b74 button.colab-df-convert');\n",
              "      buttonEl.style.display =\n",
              "        google.colab.kernel.accessAllowed ? 'block' : 'none';\n",
              "\n",
              "      async function convertToInteractive(key) {\n",
              "        const element = document.querySelector('#df-6428d251-3a92-48cc-b477-df0ed0fd7b74');\n",
              "        const dataTable =\n",
              "          await google.colab.kernel.invokeFunction('convertToInteractive',\n",
              "                                                    [key], {});\n",
              "        if (!dataTable) return;\n",
              "\n",
              "        const docLinkHtml = 'Like what you see? Visit the ' +\n",
              "          '<a target=\"_blank\" href=https://colab.research.google.com/notebooks/data_table.ipynb>data table notebook</a>'\n",
              "          + ' to learn more about interactive tables.';\n",
              "        element.innerHTML = '';\n",
              "        dataTable['output_type'] = 'display_data';\n",
              "        await google.colab.output.renderOutput(dataTable, element);\n",
              "        const docLink = document.createElement('div');\n",
              "        docLink.innerHTML = docLinkHtml;\n",
              "        element.appendChild(docLink);\n",
              "      }\n",
              "    </script>\n",
              "  </div>\n",
              "\n",
              "\n",
              "<div id=\"df-1ebf0b03-1f54-41d2-ab50-065b00b9fcd3\">\n",
              "  <button class=\"colab-df-quickchart\" onclick=\"quickchart('df-1ebf0b03-1f54-41d2-ab50-065b00b9fcd3')\"\n",
              "            title=\"Suggest charts\"\n",
              "            style=\"display:none;\">\n",
              "\n",
              "<svg xmlns=\"http://www.w3.org/2000/svg\" height=\"24px\"viewBox=\"0 0 24 24\"\n",
              "     width=\"24px\">\n",
              "    <g>\n",
              "        <path d=\"M19 3H5c-1.1 0-2 .9-2 2v14c0 1.1.9 2 2 2h14c1.1 0 2-.9 2-2V5c0-1.1-.9-2-2-2zM9 17H7v-7h2v7zm4 0h-2V7h2v10zm4 0h-2v-4h2v4z\"/>\n",
              "    </g>\n",
              "</svg>\n",
              "  </button>\n",
              "\n",
              "<style>\n",
              "  .colab-df-quickchart {\n",
              "      --bg-color: #E8F0FE;\n",
              "      --fill-color: #1967D2;\n",
              "      --hover-bg-color: #E2EBFA;\n",
              "      --hover-fill-color: #174EA6;\n",
              "      --disabled-fill-color: #AAA;\n",
              "      --disabled-bg-color: #DDD;\n",
              "  }\n",
              "\n",
              "  [theme=dark] .colab-df-quickchart {\n",
              "      --bg-color: #3B4455;\n",
              "      --fill-color: #D2E3FC;\n",
              "      --hover-bg-color: #434B5C;\n",
              "      --hover-fill-color: #FFFFFF;\n",
              "      --disabled-bg-color: #3B4455;\n",
              "      --disabled-fill-color: #666;\n",
              "  }\n",
              "\n",
              "  .colab-df-quickchart {\n",
              "    background-color: var(--bg-color);\n",
              "    border: none;\n",
              "    border-radius: 50%;\n",
              "    cursor: pointer;\n",
              "    display: none;\n",
              "    fill: var(--fill-color);\n",
              "    height: 32px;\n",
              "    padding: 0;\n",
              "    width: 32px;\n",
              "  }\n",
              "\n",
              "  .colab-df-quickchart:hover {\n",
              "    background-color: var(--hover-bg-color);\n",
              "    box-shadow: 0 1px 2px rgba(60, 64, 67, 0.3), 0 1px 3px 1px rgba(60, 64, 67, 0.15);\n",
              "    fill: var(--button-hover-fill-color);\n",
              "  }\n",
              "\n",
              "  .colab-df-quickchart-complete:disabled,\n",
              "  .colab-df-quickchart-complete:disabled:hover {\n",
              "    background-color: var(--disabled-bg-color);\n",
              "    fill: var(--disabled-fill-color);\n",
              "    box-shadow: none;\n",
              "  }\n",
              "\n",
              "  .colab-df-spinner {\n",
              "    border: 2px solid var(--fill-color);\n",
              "    border-color: transparent;\n",
              "    border-bottom-color: var(--fill-color);\n",
              "    animation:\n",
              "      spin 1s steps(1) infinite;\n",
              "  }\n",
              "\n",
              "  @keyframes spin {\n",
              "    0% {\n",
              "      border-color: transparent;\n",
              "      border-bottom-color: var(--fill-color);\n",
              "      border-left-color: var(--fill-color);\n",
              "    }\n",
              "    20% {\n",
              "      border-color: transparent;\n",
              "      border-left-color: var(--fill-color);\n",
              "      border-top-color: var(--fill-color);\n",
              "    }\n",
              "    30% {\n",
              "      border-color: transparent;\n",
              "      border-left-color: var(--fill-color);\n",
              "      border-top-color: var(--fill-color);\n",
              "      border-right-color: var(--fill-color);\n",
              "    }\n",
              "    40% {\n",
              "      border-color: transparent;\n",
              "      border-right-color: var(--fill-color);\n",
              "      border-top-color: var(--fill-color);\n",
              "    }\n",
              "    60% {\n",
              "      border-color: transparent;\n",
              "      border-right-color: var(--fill-color);\n",
              "    }\n",
              "    80% {\n",
              "      border-color: transparent;\n",
              "      border-right-color: var(--fill-color);\n",
              "      border-bottom-color: var(--fill-color);\n",
              "    }\n",
              "    90% {\n",
              "      border-color: transparent;\n",
              "      border-bottom-color: var(--fill-color);\n",
              "    }\n",
              "  }\n",
              "</style>\n",
              "\n",
              "  <script>\n",
              "    async function quickchart(key) {\n",
              "      const quickchartButtonEl =\n",
              "        document.querySelector('#' + key + ' button');\n",
              "      quickchartButtonEl.disabled = true;  // To prevent multiple clicks.\n",
              "      quickchartButtonEl.classList.add('colab-df-spinner');\n",
              "      try {\n",
              "        const charts = await google.colab.kernel.invokeFunction(\n",
              "            'suggestCharts', [key], {});\n",
              "      } catch (error) {\n",
              "        console.error('Error during call to suggestCharts:', error);\n",
              "      }\n",
              "      quickchartButtonEl.classList.remove('colab-df-spinner');\n",
              "      quickchartButtonEl.classList.add('colab-df-quickchart-complete');\n",
              "    }\n",
              "    (() => {\n",
              "      let quickchartButtonEl =\n",
              "        document.querySelector('#df-1ebf0b03-1f54-41d2-ab50-065b00b9fcd3 button');\n",
              "      quickchartButtonEl.style.display =\n",
              "        google.colab.kernel.accessAllowed ? 'block' : 'none';\n",
              "    })();\n",
              "  </script>\n",
              "</div>\n",
              "\n",
              "    </div>\n",
              "  </div>\n"
            ],
            "application/vnd.google.colaboratory.intrinsic+json": {
              "type": "dataframe",
              "summary": "{\n  \"name\": \"dados\",\n  \"rows\": 424,\n  \"fields\": [\n    {\n      \"column\": \"CNPJ\",\n      \"properties\": {\n        \"dtype\": \"category\",\n        \"num_unique_values\": 1,\n        \"samples\": [\n          \"41.890.685/0001-76\"\n        ],\n        \"semantic_type\": \"\",\n        \"description\": \"\"\n      }\n    },\n    {\n      \"column\": \"Raz\\u00e3o Social\",\n      \"properties\": {\n        \"dtype\": \"category\",\n        \"num_unique_values\": 1,\n        \"samples\": [\n          \"RICARDO DOS SANTOS ALVES 38005572824\"\n        ],\n        \"semantic_type\": \"\",\n        \"description\": \"\"\n      }\n    },\n    {\n      \"column\": \"Data do Processamento\",\n      \"properties\": {\n        \"dtype\": \"date\",\n        \"min\": \"2024-07-02\",\n        \"max\": \"2024-08-16\",\n        \"num_unique_values\": 39,\n        \"samples\": [\n          \"2024-07-07\"\n        ],\n        \"semantic_type\": \"\",\n        \"description\": \"\"\n      }\n    },\n    {\n      \"column\": \"Data da Transa\\u00e7\\u00e3o\",\n      \"properties\": {\n        \"dtype\": \"date\",\n        \"min\": \"2024-07-01\",\n        \"max\": \"2024-08-15\",\n        \"num_unique_values\": 39,\n        \"samples\": [\n          \"2024-07-06\"\n        ],\n        \"semantic_type\": \"\",\n        \"description\": \"\"\n      }\n    },\n    {\n      \"column\": \"Rede Captura\",\n      \"properties\": {\n        \"dtype\": \"category\",\n        \"num_unique_values\": 1,\n        \"samples\": [\n          \"PAGSEGURO\"\n        ],\n        \"semantic_type\": \"\",\n        \"description\": \"\"\n      }\n    },\n    {\n      \"column\": \"Descri\\u00e7\\u00e3o\",\n      \"properties\": {\n        \"dtype\": \"category\",\n        \"num_unique_values\": 1,\n        \"samples\": [\n          \"COMPRAS\"\n        ],\n        \"semantic_type\": \"\",\n        \"description\": \"\"\n      }\n    },\n    {\n      \"column\": \"N\\u00famero do cart\\u00e3o\",\n      \"properties\": {\n        \"dtype\": \"category\",\n        \"num_unique_values\": 90,\n        \"samples\": [\n          \"6060********1214\"\n        ],\n        \"semantic_type\": \"\",\n        \"description\": \"\"\n      }\n    },\n    {\n      \"column\": \"N\\u00ba de Autoriza\\u00e7\\u00e3o\",\n      \"properties\": {\n        \"dtype\": \"string\",\n        \"num_unique_values\": 424,\n        \"samples\": [\n          \"406145\"\n        ],\n        \"semantic_type\": \"\",\n        \"description\": \"\"\n      }\n    },\n    {\n      \"column\": \"Valor Bruto R$\",\n      \"properties\": {\n        \"dtype\": \"category\",\n        \"num_unique_values\": 208,\n        \"samples\": [\n          \"198.45\"\n        ],\n        \"semantic_type\": \"\",\n        \"description\": \"\"\n      }\n    },\n    {\n      \"column\": \"Data de Pagamento\",\n      \"properties\": {\n        \"dtype\": \"date\",\n        \"min\": \"2024-08-01\",\n        \"max\": \"2024-09-12\",\n        \"num_unique_values\": 7,\n        \"samples\": [\n          \"2024-09-12\"\n        ],\n        \"semantic_type\": \"\",\n        \"description\": \"\"\n      }\n    }\n  ]\n}"
            }
          },
          "metadata": {},
          "execution_count": 97
        }
      ]
    },
    {
      "cell_type": "markdown",
      "metadata": {
        "id": "LesGYsnpWO5E"
      },
      "source": [
        "### Analisando os dados:"
      ]
    },
    {
      "cell_type": "markdown",
      "metadata": {
        "id": "QjcN5zZ6m_0Y"
      },
      "source": [
        "#### Verificando o valor total do caixa no período:"
      ]
    },
    {
      "cell_type": "code",
      "execution_count": 98,
      "metadata": {
        "id": "_iA3ipbAXavd"
      },
      "outputs": [],
      "source": [
        "from pyspark.sql.functions import col, sum as sum_"
      ]
    },
    {
      "cell_type": "code",
      "execution_count": 99,
      "metadata": {
        "id": "bO5sqftXWV_7"
      },
      "outputs": [],
      "source": [
        "caixa = dados.agg(sum_(\"Valor Bruto R$\").alias(\"caixa\")).collect()[0][\"caixa\"]"
      ]
    },
    {
      "cell_type": "code",
      "execution_count": 100,
      "metadata": {
        "colab": {
          "base_uri": "https://localhost:8080/"
        },
        "id": "SRAG5SZjXq_y",
        "outputId": "207cc037-9084-4cc7-c051-b08ee7449260"
      },
      "outputs": [
        {
          "output_type": "stream",
          "name": "stdout",
          "text": [
            "O valor total do caixa no período foi de 53049.47 reais\n"
          ]
        }
      ],
      "source": [
        "print(f\"O valor total do caixa no período foi de {caixa} reais\")"
      ]
    },
    {
      "cell_type": "markdown",
      "metadata": {
        "id": "bTvxTbxcxgHR"
      },
      "source": [
        "#### Verificando a quantidade total de pagamentos realizados no período:"
      ]
    },
    {
      "cell_type": "code",
      "execution_count": 103,
      "metadata": {
        "id": "1QGzMmblHCl7"
      },
      "outputs": [],
      "source": [
        "from pyspark.sql.functions import count"
      ]
    },
    {
      "cell_type": "code",
      "execution_count": 104,
      "metadata": {
        "colab": {
          "base_uri": "https://localhost:8080/"
        },
        "id": "U2ZhicmvwEcD",
        "outputId": "f8e2004e-c497-4ccf-bc65-aefc220dffeb"
      },
      "outputs": [
        {
          "output_type": "stream",
          "name": "stdout",
          "text": [
            "+--------------------------+\n",
            "|Número total de Pagamentos|\n",
            "+--------------------------+\n",
            "|                       424|\n",
            "+--------------------------+\n",
            "\n"
          ]
        }
      ],
      "source": [
        "dados.agg(count(\"*\").alias(\"Número total de Pagamentos\")).show()"
      ]
    },
    {
      "cell_type": "markdown",
      "source": [
        "#### Verificando o somatório dos pagamentos realizados no período:"
      ],
      "metadata": {
        "id": "BKmKYLd9hU_f"
      }
    },
    {
      "cell_type": "code",
      "source": [
        "from pyspark.sql.functions import sum as sum_"
      ],
      "metadata": {
        "id": "GIY4Jh-ViJmR"
      },
      "execution_count": 105,
      "outputs": []
    },
    {
      "cell_type": "code",
      "source": [
        "valor_total_de_entrada = dados.select(sum_(\"Valor Bruto R$\")).collect()[0][0]"
      ],
      "metadata": {
        "id": "nrsx594xhg6I"
      },
      "execution_count": 106,
      "outputs": []
    },
    {
      "cell_type": "code",
      "source": [
        "# Exibe o resultado\n",
        "print(f\"O valor total de entrada no período foi de {valor_total_de_entrada} reais\")"
      ],
      "metadata": {
        "colab": {
          "base_uri": "https://localhost:8080/"
        },
        "id": "3SEC37giiX7Z",
        "outputId": "3346e004-e757-467d-f8b7-51270762b0c8"
      },
      "execution_count": 107,
      "outputs": [
        {
          "output_type": "stream",
          "name": "stdout",
          "text": [
            "O valor total de entrada no período foi de 53049.47 reais\n"
          ]
        }
      ]
    },
    {
      "cell_type": "markdown",
      "source": [
        "#### Verificando a quantidade média de compras realizadas por dia:"
      ],
      "metadata": {
        "id": "VG6lwY43eQfk"
      }
    },
    {
      "cell_type": "code",
      "source": [
        "from pyspark.sql.functions import col, count, avg"
      ],
      "metadata": {
        "id": "Lrik0t5nixZE"
      },
      "execution_count": 108,
      "outputs": []
    },
    {
      "cell_type": "code",
      "source": [
        "# Agrupar por \"Data de Pagamento\" e contar o número de pagamentos para cada data\n",
        "media_compras_por_data = dados.groupBy(\"Data de Pagamento\").agg(count(\"*\").alias(\"Quantidade de Pagamentos\"))\n",
        "\n",
        "# Calcular a média da quantidade de pagamentos\n",
        "media_compras = media_compras_por_data.agg(avg(\"Quantidade de Pagamentos\").alias(\"Quantidade média de compras por dia\"))\n",
        "\n",
        "# Mostrar o resultado\n",
        "media_compras.show()"
      ],
      "metadata": {
        "colab": {
          "base_uri": "https://localhost:8080/"
        },
        "id": "LkLm3exReU2M",
        "outputId": "f87dc48f-69c6-48b4-d4d1-16397a79a5b7"
      },
      "execution_count": 110,
      "outputs": [
        {
          "output_type": "stream",
          "name": "stdout",
          "text": [
            "+-----------------------------------+\n",
            "|Quantidade média de compras por dia|\n",
            "+-----------------------------------+\n",
            "|                  60.57142857142857|\n",
            "+-----------------------------------+\n",
            "\n"
          ]
        }
      ]
    },
    {
      "cell_type": "markdown",
      "source": [
        "#### Verificando o valor total médio das compras realizadas por dia:"
      ],
      "metadata": {
        "id": "NJth1oMTkRfa"
      }
    },
    {
      "cell_type": "code",
      "source": [
        "from pyspark.sql.functions import col, sum, avg, format_number"
      ],
      "metadata": {
        "id": "scTxx10nnRQs"
      },
      "execution_count": 111,
      "outputs": []
    },
    {
      "cell_type": "code",
      "source": [
        "# Agrupar por \"Data de Pagamento\" e somar o valor total de \"Valor Bruto R$\" para cada data\n",
        "total_por_data = dados.groupBy(\"Data de Pagamento\").agg(sum(\"Valor Bruto R$\").alias(\"Total por Data\"))\n",
        "\n",
        "# Calcular a média dos totais diários\n",
        "media_total_por_data = total_por_data.agg(avg(\"Total por Data\").alias(\"Valor Total Médio por Dia\"))\n",
        "\n",
        "# Formatar o resultado para duas casas decimais\n",
        "media_total_por_data_formatado = media_total_por_data.withColumn(\n",
        "    \"Valor Total Médio por Dia\",\n",
        "    format_number(col(\"Valor Total Médio por Dia\"), 2)\n",
        ")\n",
        "\n",
        "# Mostrar o resultado\n",
        "media_total_por_data_formatado.show()"
      ],
      "metadata": {
        "colab": {
          "base_uri": "https://localhost:8080/"
        },
        "id": "HLfUqa1jkftr",
        "outputId": "ebe757ab-a6db-4469-8244-a8ccb67922a6"
      },
      "execution_count": 112,
      "outputs": [
        {
          "output_type": "stream",
          "name": "stdout",
          "text": [
            "+-------------------------+\n",
            "|Valor Total Médio por Dia|\n",
            "+-------------------------+\n",
            "|                 7,578.50|\n",
            "+-------------------------+\n",
            "\n"
          ]
        }
      ]
    },
    {
      "cell_type": "markdown",
      "metadata": {
        "id": "PfcCxDPIsJ7B"
      },
      "source": [
        "##### Verificando os valores totais do caixa por agrupamento de datas:"
      ]
    },
    {
      "cell_type": "code",
      "execution_count": 113,
      "metadata": {
        "id": "MbM6hA8xsVsU"
      },
      "outputs": [],
      "source": [
        "from pyspark.sql.functions import year, month, date_format"
      ]
    },
    {
      "cell_type": "code",
      "execution_count": 114,
      "metadata": {
        "colab": {
          "base_uri": "https://localhost:8080/"
        },
        "id": "LalPY49dtDTc",
        "outputId": "71a0ee88-f96a-4791-f6c7-56f33500fa5e"
      },
      "outputs": [
        {
          "output_type": "stream",
          "name": "stdout",
          "text": [
            "+------------------+------------------------------------+-----------------+------------+---------+----------------+-----------------+--------------+-------------+------+\n",
            "|CNPJ              |Razão Social                        |Data da Transação|Rede Captura|Descrição|Número do cartão|Nº de Autorização|Valor Bruto R$|Dia da Semana|Mês   |\n",
            "+------------------+------------------------------------+-----------------+------------+---------+----------------+-----------------+--------------+-------------+------+\n",
            "|41.890.685/0001-76|RICARDO DOS SANTOS ALVES 38005572824|2024-08-15       |PAGSEGURO   |COMPRAS  |6060********3012|406249           |199.85        |Thursday     |August|\n",
            "|41.890.685/0001-76|RICARDO DOS SANTOS ALVES 38005572824|2024-08-15       |PAGSEGURO   |COMPRAS  |6060********8403|706148           |199.65        |Thursday     |August|\n",
            "|41.890.685/0001-76|RICARDO DOS SANTOS ALVES 38005572824|2024-08-15       |PAGSEGURO   |COMPRAS  |6060********5343|706150           |198.75        |Thursday     |August|\n",
            "|41.890.685/0001-76|RICARDO DOS SANTOS ALVES 38005572824|2024-08-15       |PAGSEGURO   |COMPRAS  |6060********7446|406247           |198.00        |Thursday     |August|\n",
            "|41.890.685/0001-76|RICARDO DOS SANTOS ALVES 38005572824|2024-08-15       |PAGSEGURO   |COMPRAS  |6060********8596|406245           |198.00        |Thursday     |August|\n",
            "|41.890.685/0001-76|RICARDO DOS SANTOS ALVES 38005572824|2024-08-15       |PAGSEGURO   |COMPRAS  |6060********7035|706149           |189.00        |Thursday     |August|\n",
            "|41.890.685/0001-76|RICARDO DOS SANTOS ALVES 38005572824|2024-08-15       |PAGSEGURO   |COMPRAS  |6060********2016|406246           |187.00        |Thursday     |August|\n",
            "|41.890.685/0001-76|RICARDO DOS SANTOS ALVES 38005572824|2024-08-15       |PAGSEGURO   |COMPRAS  |6060********4672|406251           |172.50        |Thursday     |August|\n",
            "|41.890.685/0001-76|RICARDO DOS SANTOS ALVES 38005572824|2024-08-15       |PAGSEGURO   |COMPRAS  |6060********2632|406250           |3.00          |Thursday     |August|\n",
            "|41.890.685/0001-76|RICARDO DOS SANTOS ALVES 38005572824|2024-08-14       |PAGSEGURO   |COMPRAS  |6060********8712|406239           |198.65        |Wednesday    |August|\n",
            "|41.890.685/0001-76|RICARDO DOS SANTOS ALVES 38005572824|2024-08-14       |PAGSEGURO   |COMPRAS  |6060********1013|706145           |198.00        |Wednesday    |August|\n",
            "|41.890.685/0001-76|RICARDO DOS SANTOS ALVES 38005572824|2024-08-14       |PAGSEGURO   |COMPRAS  |6060********3012|406237           |198.00        |Wednesday    |August|\n",
            "|41.890.685/0001-76|RICARDO DOS SANTOS ALVES 38005572824|2024-08-14       |PAGSEGURO   |COMPRAS  |6060********3596|406238           |196.85        |Wednesday    |August|\n",
            "|41.890.685/0001-76|RICARDO DOS SANTOS ALVES 38005572824|2024-08-14       |PAGSEGURO   |COMPRAS  |6060********3919|706146           |196.35        |Wednesday    |August|\n",
            "|41.890.685/0001-76|RICARDO DOS SANTOS ALVES 38005572824|2024-08-14       |PAGSEGURO   |COMPRAS  |6060********1191|706144           |189.00        |Wednesday    |August|\n",
            "|41.890.685/0001-76|RICARDO DOS SANTOS ALVES 38005572824|2024-08-14       |PAGSEGURO   |COMPRAS  |6060********1470|406236           |189.00        |Wednesday    |August|\n",
            "|41.890.685/0001-76|RICARDO DOS SANTOS ALVES 38005572824|2024-08-14       |PAGSEGURO   |COMPRAS  |6060********2632|406240           |3.00          |Wednesday    |August|\n",
            "|41.890.685/0001-76|RICARDO DOS SANTOS ALVES 38005572824|2024-08-14       |PAGSEGURO   |COMPRAS  |6060********2632|406235           |1.80          |Wednesday    |August|\n",
            "|41.890.685/0001-76|RICARDO DOS SANTOS ALVES 38005572824|2024-08-13       |PAGSEGURO   |COMPRAS  |6060********8403|706140           |199.85        |Tuesday      |August|\n",
            "|41.890.685/0001-76|RICARDO DOS SANTOS ALVES 38005572824|2024-08-13       |PAGSEGURO   |COMPRAS  |6060********7705|706143           |198.55        |Tuesday      |August|\n",
            "+------------------+------------------------------------+-----------------+------------+---------+----------------+-----------------+--------------+-------------+------+\n",
            "only showing top 20 rows\n",
            "\n"
          ]
        }
      ],
      "source": [
        "# Adiciona coluna para o dia da semana\n",
        "dados_transformados = dados.withColumn(\"Dia da Semana\", date_format(col(\"Data da Transação\"), \"EEEE\"))\\\n",
        "                           .withColumn(\"Mês\", date_format(col(\"Data da Transação\"), \"MMMM\"))\n",
        "\n",
        "# Excluir as colunas 'Data do Processamento' e 'Data de Pagamento'\n",
        "dados_transformados = dados_transformados.drop('Data do Processamento', 'Data de Pagamento')\n",
        "\n",
        "#Exibindo o DataFrame\n",
        "dados_transformados.show(truncate=False)"
      ]
    },
    {
      "cell_type": "code",
      "source": [
        "dados_transformados.printSchema()"
      ],
      "metadata": {
        "colab": {
          "base_uri": "https://localhost:8080/"
        },
        "id": "odrGXbM-sL1R",
        "outputId": "bc3b7cc5-fb85-4301-a9b4-987cfa2c70fd"
      },
      "execution_count": 115,
      "outputs": [
        {
          "output_type": "stream",
          "name": "stdout",
          "text": [
            "root\n",
            " |-- CNPJ: string (nullable = true)\n",
            " |-- Razão Social: string (nullable = true)\n",
            " |-- Data da Transação: date (nullable = true)\n",
            " |-- Rede Captura: string (nullable = true)\n",
            " |-- Descrição: string (nullable = true)\n",
            " |-- Número do cartão: string (nullable = true)\n",
            " |-- Nº de Autorização: string (nullable = true)\n",
            " |-- Valor Bruto R$: decimal(10,2) (nullable = true)\n",
            " |-- Dia da Semana: string (nullable = true)\n",
            " |-- Mês: string (nullable = true)\n",
            "\n"
          ]
        }
      ]
    },
    {
      "cell_type": "code",
      "source": [
        "dados_transformados.createOrReplaceTempView(\"soma_valores_por_dia_da_semana\")\n",
        "\n",
        "# Executar uma consulta SQL para agrupar os valores por dia da semana\n",
        "resultado = spark.sql(\"\"\"\n",
        "    SELECT `Dia da Semana`, SUM(`Valor Bruto R$`) AS `Valor Bruto R$`\n",
        "    FROM soma_valores_por_dia_da_semana\n",
        "    GROUP BY `Dia da Semana`\n",
        "    ORDER BY `Valor Bruto R$` DESC\n",
        "\"\"\")\n",
        "\n",
        "# Mostrar o resultado\n",
        "resultado.show()"
      ],
      "metadata": {
        "colab": {
          "base_uri": "https://localhost:8080/"
        },
        "id": "qw6aDXFYurvJ",
        "outputId": "cca9af76-d210-40a7-9604-80753cb90925"
      },
      "execution_count": 117,
      "outputs": [
        {
          "output_type": "stream",
          "name": "stdout",
          "text": [
            "+-------------+--------------+\n",
            "|Dia da Semana|Valor Bruto R$|\n",
            "+-------------+--------------+\n",
            "|       Monday|      10248.20|\n",
            "|     Saturday|       9266.78|\n",
            "|    Wednesday|       8907.50|\n",
            "|      Tuesday|       8377.12|\n",
            "|     Thursday|       7644.70|\n",
            "|       Friday|       7009.77|\n",
            "|       Sunday|       1595.40|\n",
            "+-------------+--------------+\n",
            "\n"
          ]
        }
      ]
    },
    {
      "cell_type": "markdown",
      "source": [
        "###### Com a análise acima podemos verificar que o dia da semana com maior valor em vendas foi a SEGUNDA-FEIRA e o dia com menor valor em vendas foi o DOMINGO."
      ],
      "metadata": {
        "id": "FGm4tRXLvaT6"
      }
    },
    {
      "cell_type": "markdown",
      "source": [
        "#### Verificando o total de transações realizadas por dia da semana:"
      ],
      "metadata": {
        "id": "wj7gWVIZzr4z"
      }
    },
    {
      "cell_type": "code",
      "source": [
        "# Registrar o DataFrame como uma tabela temporária\n",
        "dados_transformados.createOrReplaceTempView(\"quantidade_transacoes_por_dia_da_semana\")\n",
        "\n",
        "# Executar uma consulta SQL para contar o número de transações por dia da semana\n",
        "resultado = spark.sql(\"\"\"\n",
        "    SELECT `Dia da Semana`, COUNT(*) AS total_transacoes\n",
        "    FROM quantidade_transacoes_por_dia_da_semana\n",
        "    GROUP BY `Dia da Semana`\n",
        "    ORDER BY total_transacoes DESC\n",
        "\"\"\")\n",
        "\n",
        "# Mostrar o resultado\n",
        "resultado.show()\n"
      ],
      "metadata": {
        "colab": {
          "base_uri": "https://localhost:8080/"
        },
        "id": "y-fJtkRszwHu",
        "outputId": "28e857e8-eed9-4c7a-81a1-b12eff876ab2"
      },
      "execution_count": 120,
      "outputs": [
        {
          "output_type": "stream",
          "name": "stdout",
          "text": [
            "+-------------+----------------+\n",
            "|Dia da Semana|total_transacoes|\n",
            "+-------------+----------------+\n",
            "|       Monday|              80|\n",
            "|    Wednesday|              74|\n",
            "|     Thursday|              68|\n",
            "|      Tuesday|              67|\n",
            "|     Saturday|              62|\n",
            "|       Friday|              62|\n",
            "|       Sunday|              11|\n",
            "+-------------+----------------+\n",
            "\n"
          ]
        }
      ]
    },
    {
      "cell_type": "markdown",
      "source": [
        "###### Com a análise acima podemos verificar que os dias da semana com maior quantidade de compras realizadas foram a SEGUNDA e QUARTA-FEIRA. Com esta informação, podemor inferir que os melhores dias para se realizar uma ação como uma campanha de marketing, por exemplo, seriam a segunda-feira e a quarta-feira, pois a campanha atingiria mais clientes nestes dias."
      ],
      "metadata": {
        "id": "iNYiiBkG0TYm"
      }
    },
    {
      "cell_type": "markdown",
      "source": [
        "### Exibindo gráficos:"
      ],
      "metadata": {
        "id": "In-y6lQMGz4E"
      }
    },
    {
      "cell_type": "markdown",
      "source": [
        "#### Série temporal:"
      ],
      "metadata": {
        "id": "UQzwUZUHnv_y"
      }
    },
    {
      "cell_type": "code",
      "source": [
        "import pandas as pd\n",
        "import matplotlib.pyplot as plt\n",
        "\n",
        "dados_plt = dados.toPandas()\n",
        "dados_plt.set_index(\"Data da Transação\", inplace=True)\n",
        "\n",
        "# Plotar o gráfico\n",
        "plt.figure(figsize=(12, 6))\n",
        "plt.plot(dados_plt.index, dados_plt[\"Valor Bruto R$\"], marker='o', linestyle='-')\n",
        "plt.title('Valor bruto das transações realizadas ao Longo do Tempo:')\n",
        "plt.xlabel('Data da Transação')\n",
        "plt.ylabel('Valor Bruto R$')\n",
        "plt.grid(True)\n",
        "plt.xticks(rotation=45)\n",
        "plt.tight_layout()"
      ],
      "metadata": {
        "id": "C-DjRxSNG33D",
        "colab": {
          "base_uri": "https://localhost:8080/",
          "height": 607
        },
        "outputId": "6281569d-5883-46a7-8b43-37cb4645610f"
      },
      "execution_count": 56,
      "outputs": [
        {
          "output_type": "display_data",
          "data": {
            "text/plain": [
              "<Figure size 1200x600 with 1 Axes>"
            ],
            "image/png": "[encoded data removed]"
          },
          "metadata": {}
        }
      ]
    },
    {
      "cell_type": "markdown",
      "source": [
        "##### No gráfico acima cada ponto representa uma transação (compra) realizada e a altura do ponto no eixo Y representa o valor desta compra. No eixo X está representada a informação temporal das diferentes datas onde cada transação foi realizada."
      ],
      "metadata": {
        "id": "HIVD1P7w1h0Q"
      }
    },
    {
      "cell_type": "markdown",
      "source": [
        "#### Histograma:"
      ],
      "metadata": {
        "id": "_6nTSfB1lN0K"
      }
    },
    {
      "cell_type": "code",
      "source": [
        "import pandas as pd\n",
        "import matplotlib.pyplot as plt\n",
        "\n",
        "# Converter o DataFrame do Spark para Pandas\n",
        "dados_plt = dados.toPandas()\n",
        "\n",
        "# Agrupar os dados por data e somar os valores brutos\n",
        "dados_plt_grouped = dados_plt.groupby('Data da Transação')['Valor Bruto R$'].sum().reset_index()\n",
        "\n",
        "# Plotar o gráfico de barras\n",
        "plt.figure(figsize=(12, 6))\n",
        "plt.bar(dados_plt_grouped['Data da Transação'], dados_plt_grouped['Valor Bruto R$'], color='skyblue', edgecolor='black')\n",
        "plt.title('Valor Bruto total das Transações por Data:')\n",
        "plt.xlabel('Data da Transação')\n",
        "plt.ylabel('Valor Bruto R$')\n",
        "plt.grid(True)\n",
        "\n",
        "# Ajustar a rotação das datas no eixo X para melhor visualização\n",
        "plt.xticks(rotation=45)\n",
        "\n",
        "plt.tight_layout()\n",
        "plt.show()"
      ],
      "metadata": {
        "id": "41_36-zHZ0ZN",
        "colab": {
          "base_uri": "https://localhost:8080/",
          "height": 607
        },
        "outputId": "ec157c11-c7af-4377-9d07-a4e14dbf1970"
      },
      "execution_count": 64,
      "outputs": [
        {
          "output_type": "display_data",
          "data": {
            "text/plain": [
              "<Figure size 1200x600 with 1 Axes>"
            ],
            "image/png": "[encoded data removed]"
          },
          "metadata": {}
        }
      ]
    },
    {
      "cell_type": "markdown",
      "source": [
        "##### No gráfico acima cada barra com sua respectiva altura no eixo Y representa o valor total das compras realizadas. No eixo X está representada a informação temporal das datas onde as transações foram realizadas."
      ],
      "metadata": {
        "id": "bCIQkLEU2kVy"
      }
    }
  ],
  "metadata": {
    "colab": {
      "provenance": []
    },
    "kernelspec": {
      "display_name": "Python 3",
      "name": "python3"
    },
    "language_info": {
      "name": "python"
    }
  },
  "nbformat": 4,
  "nbformat_minor": 0
}